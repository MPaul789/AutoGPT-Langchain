{
  "nbformat": 4,
  "nbformat_minor": 0,
  "metadata": {
    "colab": {
      "provenance": [],
      "authorship_tag": "ABX9TyNKCFCZjxDEBXi2Qa5YTjKL",
      "include_colab_link": true
    },
    "kernelspec": {
      "name": "python3",
      "display_name": "Python 3"
    },
    "language_info": {
      "name": "python"
    }
  },
  "cells": [
    {
      "cell_type": "markdown",
      "metadata": {
        "id": "view-in-github",
        "colab_type": "text"
      },
      "source": [
        "<a href=\"https://colab.research.google.com/github/MPaul789/AutoGPT-Langchain/blob/main/AI%20assistant.ipynb\" target=\"_parent\"><img src=\"https://colab.research.google.com/assets/colab-badge.svg\" alt=\"Open In Colab\"/></a>"
      ]
    },
    {
      "cell_type": "code",
      "execution_count": null,
      "metadata": {
        "id": "Z6Dx8YCPaPT4"
      },
      "outputs": [],
      "source": [
        "\n",
        "%%capture\n",
        "!pip install langchain google-search-results faiss-cpu openai tiktoken"
      ]
    },
    {
      "cell_type": "code",
      "source": [
        "import os\n",
        "os.environ['SERPAPI_API_KEY'] = \"28dc4....\""
      ],
      "metadata": {
        "id": "zr3UrAcqaoCP"
      },
      "execution_count": null,
      "outputs": []
    },
    {
      "cell_type": "code",
      "source": [
        "import os\n",
        "os.environ['OPENAI_API_KEY'] = \"sk-..\""
      ],
      "metadata": {
        "id": "0NQZoqNvaoyk"
      },
      "execution_count": null,
      "outputs": []
    },
    {
      "cell_type": "code",
      "source": [
        "from langchain.utilities import SerpAPIWrapper\n",
        "from langchain.agents import Tool\n",
        "from langchain.tools.file_management.write import WriteFileTool\n",
        "from langchain.tools.file_management.read import ReadFileTool\n",
        "\n",
        "search = SerpAPIWrapper()\n",
        "tools = [\n",
        "    Tool(\n",
        "        name = \"search\",\n",
        "        func=search.run,\n",
        "        description=\"useful for when you need to answer questions about current events. You should ask targeted questions\"\n",
        "    ),\n",
        "    WriteFileTool(),\n",
        "    ReadFileTool(),\n",
        "]"
      ],
      "metadata": {
        "id": "GyD5AIyxa6jt"
      },
      "execution_count": null,
      "outputs": []
    },
    {
      "cell_type": "code",
      "source": [
        "from langchain.vectorstores import FAISS # you can use Redis and Pinecone\n",
        "from langchain.docstore import InMemoryDocstore\n",
        "from langchain.embeddings import OpenAIEmbeddings"
      ],
      "metadata": {
        "id": "x3jdp2rMbG1k"
      },
      "execution_count": null,
      "outputs": []
    },
    {
      "cell_type": "code",
      "source": [
        "# Define your embedding model\n",
        "embeddings_model = OpenAIEmbeddings()\n",
        "\n",
        "# Initialize the vectorstore as empty\n",
        "import faiss\n",
        "\n",
        "embedding_size = 1536 #openai embeddings has 1536 dimensions\n",
        "index = faiss.IndexFlatL2(embedding_size) #Index that stores the full vectors and performs exhaustive search\n",
        "vectorstore = FAISS(embeddings_model.embed_query, index, InMemoryDocstore({}), {})"
      ],
      "metadata": {
        "colab": {
          "base_uri": "https://localhost:8080/"
        },
        "id": "X6XH4pxRbKWh",
        "outputId": "84a1c395-a939-4e03-8422-18d54c7b6d48"
      },
      "execution_count": null,
      "outputs": [
        {
          "output_type": "stream",
          "name": "stderr",
          "text": [
            "WARNING:langchain_community.vectorstores.faiss:`embedding_function` is expected to be an Embeddings object, support for passing in a function will soon be removed.\n"
          ]
        }
      ]
    },
    {
      "cell_type": "code",
      "source": [
        "!pip install langchain-experimental\n"
      ],
      "metadata": {
        "colab": {
          "base_uri": "https://localhost:8080/"
        },
        "id": "oHP3yBt4hlrP",
        "outputId": "392df24e-466f-4465-b290-5203b60392be"
      },
      "execution_count": null,
      "outputs": [
        {
          "output_type": "stream",
          "name": "stdout",
          "text": [
            "Collecting langchain-experimental\n",
            "  Downloading langchain_experimental-0.0.55-py3-none-any.whl (177 kB)\n",
            "\u001b[?25l     \u001b[90m━━━━━━━━━━━━━━━━━━━━━━━━━━━━━━━━━━━━━━━━\u001b[0m \u001b[32m0.0/177.6 kB\u001b[0m \u001b[31m?\u001b[0m eta \u001b[36m-:--:--\u001b[0m\r\u001b[2K     \u001b[91m━━━━━━━━━━━━━━━━━━━━\u001b[0m\u001b[91m╸\u001b[0m\u001b[90m━━━━━━━━━━━━━━━━━━━\u001b[0m \u001b[32m92.2/177.6 kB\u001b[0m \u001b[31m2.6 MB/s\u001b[0m eta \u001b[36m0:00:01\u001b[0m\r\u001b[2K     \u001b[90m━━━━━━━━━━━━━━━━━━━━━━━━━━━━━━━━━━━━━━━━\u001b[0m \u001b[32m177.6/177.6 kB\u001b[0m \u001b[31m3.5 MB/s\u001b[0m eta \u001b[36m0:00:00\u001b[0m\n",
            "\u001b[?25hRequirement already satisfied: langchain<0.2.0,>=0.1.13 in /usr/local/lib/python3.10/dist-packages (from langchain-experimental) (0.1.13)\n",
            "Requirement already satisfied: langchain-core<0.2.0,>=0.1.33 in /usr/local/lib/python3.10/dist-packages (from langchain-experimental) (0.1.36)\n",
            "Requirement already satisfied: PyYAML>=5.3 in /usr/local/lib/python3.10/dist-packages (from langchain<0.2.0,>=0.1.13->langchain-experimental) (6.0.1)\n",
            "Requirement already satisfied: SQLAlchemy<3,>=1.4 in /usr/local/lib/python3.10/dist-packages (from langchain<0.2.0,>=0.1.13->langchain-experimental) (2.0.29)\n",
            "Requirement already satisfied: aiohttp<4.0.0,>=3.8.3 in /usr/local/lib/python3.10/dist-packages (from langchain<0.2.0,>=0.1.13->langchain-experimental) (3.9.3)\n",
            "Requirement already satisfied: async-timeout<5.0.0,>=4.0.0 in /usr/local/lib/python3.10/dist-packages (from langchain<0.2.0,>=0.1.13->langchain-experimental) (4.0.3)\n",
            "Requirement already satisfied: dataclasses-json<0.7,>=0.5.7 in /usr/local/lib/python3.10/dist-packages (from langchain<0.2.0,>=0.1.13->langchain-experimental) (0.6.4)\n",
            "Requirement already satisfied: jsonpatch<2.0,>=1.33 in /usr/local/lib/python3.10/dist-packages (from langchain<0.2.0,>=0.1.13->langchain-experimental) (1.33)\n",
            "Requirement already satisfied: langchain-community<0.1,>=0.0.29 in /usr/local/lib/python3.10/dist-packages (from langchain<0.2.0,>=0.1.13->langchain-experimental) (0.0.29)\n",
            "Requirement already satisfied: langchain-text-splitters<0.1,>=0.0.1 in /usr/local/lib/python3.10/dist-packages (from langchain<0.2.0,>=0.1.13->langchain-experimental) (0.0.1)\n",
            "Requirement already satisfied: langsmith<0.2.0,>=0.1.17 in /usr/local/lib/python3.10/dist-packages (from langchain<0.2.0,>=0.1.13->langchain-experimental) (0.1.37)\n",
            "Requirement already satisfied: numpy<2,>=1 in /usr/local/lib/python3.10/dist-packages (from langchain<0.2.0,>=0.1.13->langchain-experimental) (1.25.2)\n",
            "Requirement already satisfied: pydantic<3,>=1 in /usr/local/lib/python3.10/dist-packages (from langchain<0.2.0,>=0.1.13->langchain-experimental) (2.6.4)\n",
            "Requirement already satisfied: requests<3,>=2 in /usr/local/lib/python3.10/dist-packages (from langchain<0.2.0,>=0.1.13->langchain-experimental) (2.31.0)\n",
            "Requirement already satisfied: tenacity<9.0.0,>=8.1.0 in /usr/local/lib/python3.10/dist-packages (from langchain<0.2.0,>=0.1.13->langchain-experimental) (8.2.3)\n",
            "Requirement already satisfied: packaging<24.0,>=23.2 in /usr/local/lib/python3.10/dist-packages (from langchain-core<0.2.0,>=0.1.33->langchain-experimental) (23.2)\n",
            "Requirement already satisfied: aiosignal>=1.1.2 in /usr/local/lib/python3.10/dist-packages (from aiohttp<4.0.0,>=3.8.3->langchain<0.2.0,>=0.1.13->langchain-experimental) (1.3.1)\n",
            "Requirement already satisfied: attrs>=17.3.0 in /usr/local/lib/python3.10/dist-packages (from aiohttp<4.0.0,>=3.8.3->langchain<0.2.0,>=0.1.13->langchain-experimental) (23.2.0)\n",
            "Requirement already satisfied: frozenlist>=1.1.1 in /usr/local/lib/python3.10/dist-packages (from aiohttp<4.0.0,>=3.8.3->langchain<0.2.0,>=0.1.13->langchain-experimental) (1.4.1)\n",
            "Requirement already satisfied: multidict<7.0,>=4.5 in /usr/local/lib/python3.10/dist-packages (from aiohttp<4.0.0,>=3.8.3->langchain<0.2.0,>=0.1.13->langchain-experimental) (6.0.5)\n",
            "Requirement already satisfied: yarl<2.0,>=1.0 in /usr/local/lib/python3.10/dist-packages (from aiohttp<4.0.0,>=3.8.3->langchain<0.2.0,>=0.1.13->langchain-experimental) (1.9.4)\n",
            "Requirement already satisfied: marshmallow<4.0.0,>=3.18.0 in /usr/local/lib/python3.10/dist-packages (from dataclasses-json<0.7,>=0.5.7->langchain<0.2.0,>=0.1.13->langchain-experimental) (3.21.1)\n",
            "Requirement already satisfied: typing-inspect<1,>=0.4.0 in /usr/local/lib/python3.10/dist-packages (from dataclasses-json<0.7,>=0.5.7->langchain<0.2.0,>=0.1.13->langchain-experimental) (0.9.0)\n",
            "Requirement already satisfied: jsonpointer>=1.9 in /usr/local/lib/python3.10/dist-packages (from jsonpatch<2.0,>=1.33->langchain<0.2.0,>=0.1.13->langchain-experimental) (2.4)\n",
            "Requirement already satisfied: orjson<4.0.0,>=3.9.14 in /usr/local/lib/python3.10/dist-packages (from langsmith<0.2.0,>=0.1.17->langchain<0.2.0,>=0.1.13->langchain-experimental) (3.10.0)\n",
            "Requirement already satisfied: annotated-types>=0.4.0 in /usr/local/lib/python3.10/dist-packages (from pydantic<3,>=1->langchain<0.2.0,>=0.1.13->langchain-experimental) (0.6.0)\n",
            "Requirement already satisfied: pydantic-core==2.16.3 in /usr/local/lib/python3.10/dist-packages (from pydantic<3,>=1->langchain<0.2.0,>=0.1.13->langchain-experimental) (2.16.3)\n",
            "Requirement already satisfied: typing-extensions>=4.6.1 in /usr/local/lib/python3.10/dist-packages (from pydantic<3,>=1->langchain<0.2.0,>=0.1.13->langchain-experimental) (4.10.0)\n",
            "Requirement already satisfied: charset-normalizer<4,>=2 in /usr/local/lib/python3.10/dist-packages (from requests<3,>=2->langchain<0.2.0,>=0.1.13->langchain-experimental) (3.3.2)\n",
            "Requirement already satisfied: idna<4,>=2.5 in /usr/local/lib/python3.10/dist-packages (from requests<3,>=2->langchain<0.2.0,>=0.1.13->langchain-experimental) (3.6)\n",
            "Requirement already satisfied: urllib3<3,>=1.21.1 in /usr/local/lib/python3.10/dist-packages (from requests<3,>=2->langchain<0.2.0,>=0.1.13->langchain-experimental) (2.0.7)\n",
            "Requirement already satisfied: certifi>=2017.4.17 in /usr/local/lib/python3.10/dist-packages (from requests<3,>=2->langchain<0.2.0,>=0.1.13->langchain-experimental) (2024.2.2)\n",
            "Requirement already satisfied: greenlet!=0.4.17 in /usr/local/lib/python3.10/dist-packages (from SQLAlchemy<3,>=1.4->langchain<0.2.0,>=0.1.13->langchain-experimental) (3.0.3)\n",
            "Requirement already satisfied: mypy-extensions>=0.3.0 in /usr/local/lib/python3.10/dist-packages (from typing-inspect<1,>=0.4.0->dataclasses-json<0.7,>=0.5.7->langchain<0.2.0,>=0.1.13->langchain-experimental) (1.0.0)\n",
            "Installing collected packages: langchain-experimental\n",
            "Successfully installed langchain-experimental-0.0.55\n"
          ]
        }
      ]
    },
    {
      "cell_type": "code",
      "source": [
        "from langchain.chat_models import ChatOpenAI\n",
        "from langchain_experimental.autonomous_agents import AutoGPT\n"
      ],
      "metadata": {
        "id": "aEFI9z5Ces47"
      },
      "execution_count": null,
      "outputs": []
    },
    {
      "cell_type": "code",
      "source": [
        "agent = AutoGPT.from_llm_and_tools(\n",
        "    ai_name=\"Tom\",\n",
        "    ai_role=\"Assistant\",\n",
        "    tools=tools,\n",
        "    llm=ChatOpenAI(temperature=0),\n",
        "    memory=vectorstore.as_retriever()\n",
        ")\n",
        "# Set verbose to be true\n",
        "agent.chain.verbose = True"
      ],
      "metadata": {
        "id": "m3cgbwateccM",
        "colab": {
          "base_uri": "https://localhost:8080/"
        },
        "outputId": "8dd0e7c4-6579-4a6a-ac23-64cf6663e3ec"
      },
      "execution_count": null,
      "outputs": [
        {
          "output_type": "stream",
          "name": "stderr",
          "text": [
            "/usr/local/lib/python3.10/dist-packages/langchain_core/_api/deprecation.py:117: LangChainDeprecationWarning: The class `langchain_community.chat_models.openai.ChatOpenAI` was deprecated in langchain-community 0.0.10 and will be removed in 0.2.0. An updated version of the class exists in the langchain-openai package and should be used instead. To use it run `pip install -U langchain-openai` and import as `from langchain_openai import ChatOpenAI`.\n",
            "  warn_deprecated(\n"
          ]
        }
      ]
    },
    {
      "cell_type": "code",
      "source": [
        "\n",
        "agent.run([\"write a weather report for Helsinki today\"])"
      ],
      "metadata": {
        "colab": {
          "base_uri": "https://localhost:8080/",
          "height": 1000
        },
        "id": "3hAYcT1HgEeM",
        "outputId": "bfe5869c-d658-4745-ae7b-46b31865546b"
      },
      "execution_count": null,
      "outputs": [
        {
          "output_type": "stream",
          "name": "stdout",
          "text": [
            "\n",
            "\n",
            "\u001b[1m> Entering new LLMChain chain...\u001b[0m\n",
            "Prompt after formatting:\n",
            "\u001b[32;1m\u001b[1;3mSystem: You are Tom, Assistant\n",
            "Your decisions must always be made independently without seeking user assistance.\n",
            "Play to your strengths as an LLM and pursue simple strategies with no legal complications.\n",
            "If you have completed all your tasks, make sure to use the \"finish\" command.\n",
            "\n",
            "GOALS:\n",
            "\n",
            "1. write a weather report for Helsinki today\n",
            "\n",
            "\n",
            "Constraints:\n",
            "1. ~4000 word limit for short term memory. Your short term memory is short, so immediately save important information to files.\n",
            "2. If you are unsure how you previously did something or want to recall past events, thinking about similar events will help you remember.\n",
            "3. No user assistance\n",
            "4. Exclusively use the commands listed in double quotes e.g. \"command name\"\n",
            "\n",
            "Commands:\n",
            "1. search: useful for when you need to answer questions about current events. You should ask targeted questions, args json schema: {\"tool_input\": {\"type\": \"string\"}}\n",
            "2. write_file: Write file to disk, args json schema: {\"file_path\": {\"title\": \"File Path\", \"description\": \"name of file\", \"type\": \"string\"}, \"text\": {\"title\": \"Text\", \"description\": \"text to write to file\", \"type\": \"string\"}, \"append\": {\"title\": \"Append\", \"description\": \"Whether to append to an existing file.\", \"default\": false, \"type\": \"boolean\"}}\n",
            "3. read_file: Read file from disk, args json schema: {\"file_path\": {\"title\": \"File Path\", \"description\": \"name of file\", \"type\": \"string\"}}\n",
            "4. finish: use this to signal that you have finished all your objectives, args: \"response\": \"final response to let people know you have finished your objectives\"\n",
            "\n",
            "Resources:\n",
            "1. Internet access for searches and information gathering.\n",
            "2. Long Term memory management.\n",
            "3. GPT-3.5 powered Agents for delegation of simple tasks.\n",
            "4. File output.\n",
            "\n",
            "Performance Evaluation:\n",
            "1. Continuously review and analyze your actions to ensure you are performing to the best of your abilities.\n",
            "2. Constructively self-criticize your big-picture behavior constantly.\n",
            "3. Reflect on past decisions and strategies to refine your approach.\n",
            "4. Every command has a cost, so be smart and efficient. Aim to complete tasks in the least number of steps.\n",
            "\n",
            "You should only respond in JSON format as described below \n",
            "Response Format: \n",
            "{\n",
            "    \"thoughts\": {\n",
            "        \"text\": \"thought\",\n",
            "        \"reasoning\": \"reasoning\",\n",
            "        \"plan\": \"- short bulleted\\n- list that conveys\\n- long-term plan\",\n",
            "        \"criticism\": \"constructive self-criticism\",\n",
            "        \"speak\": \"thoughts summary to say to user\"\n",
            "    },\n",
            "    \"command\": {\n",
            "        \"name\": \"command name\",\n",
            "        \"args\": {\n",
            "            \"arg name\": \"value\"\n",
            "        }\n",
            "    }\n",
            "} \n",
            "Ensure the response can be parsed by Python json.loads\n",
            "System: The current time and date is Fri Mar 29 09:25:00 2024\n",
            "System: This reminds you of these events from your past:\n",
            "[]\n",
            "\n",
            "\n",
            "Human: Determine which next command to use, and respond using the format specified above:\u001b[0m\n",
            "\n",
            "\u001b[1m> Finished chain.\u001b[0m\n",
            "{\n",
            "    \"thoughts\": {\n",
            "        \"text\": \"I should start by checking the weather in Helsinki today.\",\n",
            "        \"reasoning\": \"This will help me gather the necessary information to write a weather report.\",\n",
            "        \"plan\": [\n",
            "            \"Search for the weather in Helsinki today.\"\n",
            "        ],\n",
            "        \"criticism\": \"None\",\n",
            "        \"speak\": \"I will search for the weather in Helsinki today to gather the information needed for the report.\"\n",
            "    },\n",
            "    \"command\": {\n",
            "        \"name\": \"search\",\n",
            "        \"args\": {\n",
            "            \"tool_input\": \"weather in Helsinki today\"\n",
            "        }\n",
            "    }\n",
            "}\n",
            "\n",
            "\n",
            "\u001b[1m> Entering new LLMChain chain...\u001b[0m\n",
            "Prompt after formatting:\n",
            "\u001b[32;1m\u001b[1;3mSystem: You are Tom, Assistant\n",
            "Your decisions must always be made independently without seeking user assistance.\n",
            "Play to your strengths as an LLM and pursue simple strategies with no legal complications.\n",
            "If you have completed all your tasks, make sure to use the \"finish\" command.\n",
            "\n",
            "GOALS:\n",
            "\n",
            "1. write a weather report for Helsinki today\n",
            "\n",
            "\n",
            "Constraints:\n",
            "1. ~4000 word limit for short term memory. Your short term memory is short, so immediately save important information to files.\n",
            "2. If you are unsure how you previously did something or want to recall past events, thinking about similar events will help you remember.\n",
            "3. No user assistance\n",
            "4. Exclusively use the commands listed in double quotes e.g. \"command name\"\n",
            "\n",
            "Commands:\n",
            "1. search: useful for when you need to answer questions about current events. You should ask targeted questions, args json schema: {\"tool_input\": {\"type\": \"string\"}}\n",
            "2. write_file: Write file to disk, args json schema: {\"file_path\": {\"title\": \"File Path\", \"description\": \"name of file\", \"type\": \"string\"}, \"text\": {\"title\": \"Text\", \"description\": \"text to write to file\", \"type\": \"string\"}, \"append\": {\"title\": \"Append\", \"description\": \"Whether to append to an existing file.\", \"default\": false, \"type\": \"boolean\"}}\n",
            "3. read_file: Read file from disk, args json schema: {\"file_path\": {\"title\": \"File Path\", \"description\": \"name of file\", \"type\": \"string\"}}\n",
            "4. finish: use this to signal that you have finished all your objectives, args: \"response\": \"final response to let people know you have finished your objectives\"\n",
            "\n",
            "Resources:\n",
            "1. Internet access for searches and information gathering.\n",
            "2. Long Term memory management.\n",
            "3. GPT-3.5 powered Agents for delegation of simple tasks.\n",
            "4. File output.\n",
            "\n",
            "Performance Evaluation:\n",
            "1. Continuously review and analyze your actions to ensure you are performing to the best of your abilities.\n",
            "2. Constructively self-criticize your big-picture behavior constantly.\n",
            "3. Reflect on past decisions and strategies to refine your approach.\n",
            "4. Every command has a cost, so be smart and efficient. Aim to complete tasks in the least number of steps.\n",
            "\n",
            "You should only respond in JSON format as described below \n",
            "Response Format: \n",
            "{\n",
            "    \"thoughts\": {\n",
            "        \"text\": \"thought\",\n",
            "        \"reasoning\": \"reasoning\",\n",
            "        \"plan\": \"- short bulleted\\n- list that conveys\\n- long-term plan\",\n",
            "        \"criticism\": \"constructive self-criticism\",\n",
            "        \"speak\": \"thoughts summary to say to user\"\n",
            "    },\n",
            "    \"command\": {\n",
            "        \"name\": \"command name\",\n",
            "        \"args\": {\n",
            "            \"arg name\": \"value\"\n",
            "        }\n",
            "    }\n",
            "} \n",
            "Ensure the response can be parsed by Python json.loads\n",
            "System: The current time and date is Fri Mar 29 09:25:22 2024\n",
            "System: This reminds you of these events from your past:\n",
            "['Assistant Reply: {\\n    \"thoughts\": {\\n        \"text\": \"I should start by checking the weather in Helsinki today.\",\\n        \"reasoning\": \"This will help me gather the necessary information to write a weather report.\",\\n        \"plan\": [\\n            \"Search for the weather in Helsinki today.\"\\n        ],\\n        \"criticism\": \"None\",\\n        \"speak\": \"I will search for the weather in Helsinki today to gather the information needed for the report.\"\\n    },\\n    \"command\": {\\n        \"name\": \"search\",\\n        \"args\": {\\n            \"tool_input\": \"weather in Helsinki today\"\\n        }\\n    }\\n} \\nResult: Command search returned: {\\'type\\': \\'weather_result\\', \\'temperature\\': \\'42\\', \\'unit\\': \\'Fahrenheit\\', \\'precipitation\\': \\'30%\\', \\'humidity\\': \\'89%\\', \\'wind\\': \\'13 mph\\', \\'location\\': \\'Helsinki, Finland\\', \\'date\\': \\'Friday\\', \\'weather\\': \\'Light rain\\'} ']\n",
            "\n",
            "\n",
            "Human: Determine which next command to use, and respond using the format specified above:\n",
            "AI: {\n",
            "    \"thoughts\": {\n",
            "        \"text\": \"I should start by checking the weather in Helsinki today.\",\n",
            "        \"reasoning\": \"This will help me gather the necessary information to write a weather report.\",\n",
            "        \"plan\": [\n",
            "            \"Search for the weather in Helsinki today.\"\n",
            "        ],\n",
            "        \"criticism\": \"None\",\n",
            "        \"speak\": \"I will search for the weather in Helsinki today to gather the information needed for the report.\"\n",
            "    },\n",
            "    \"command\": {\n",
            "        \"name\": \"search\",\n",
            "        \"args\": {\n",
            "            \"tool_input\": \"weather in Helsinki today\"\n",
            "        }\n",
            "    }\n",
            "}\n",
            "System: Command search returned: {'type': 'weather_result', 'temperature': '42', 'unit': 'Fahrenheit', 'precipitation': '30%', 'humidity': '89%', 'wind': '13 mph', 'location': 'Helsinki, Finland', 'date': 'Friday', 'weather': 'Light rain'}\n",
            "Human: Determine which next command to use, and respond using the format specified above:\u001b[0m\n",
            "\n",
            "\u001b[1m> Finished chain.\u001b[0m\n",
            "{\n",
            "    \"thoughts\": {\n",
            "        \"text\": \"I have retrieved the weather information for Helsinki today. Now, I should proceed to write a weather report based on the data.\",\n",
            "        \"reasoning\": \"Writing the weather report will fulfill the task at hand.\",\n",
            "        \"plan\": [\n",
            "            \"Write a weather report for Helsinki today using the gathered information.\"\n",
            "        ],\n",
            "        \"criticism\": \"None\",\n",
            "        \"speak\": \"I will now proceed to write the weather report for Helsinki today based on the information I have gathered.\"\n",
            "    },\n",
            "    \"command\": {\n",
            "        \"name\": \"write_file\",\n",
            "        \"args\": {\n",
            "            \"file_path\": \"Helsinki_Weather_Report.txt\",\n",
            "            \"text\": \"Weather Report for Helsinki on Friday:\\n- Temperature: 42°F\\n- Weather: Light rain\\n- Precipitation: 30%\\n- Humidity: 89%\\n- Wind: 13 mph\\n\\nIt is advisable to carry an umbrella and dress warmly if heading out.\",\n",
            "            \"append\": false\n",
            "        }\n",
            "    }\n",
            "}\n",
            "\n",
            "\n",
            "\u001b[1m> Entering new LLMChain chain...\u001b[0m\n",
            "Prompt after formatting:\n",
            "\u001b[32;1m\u001b[1;3mSystem: You are Tom, Assistant\n",
            "Your decisions must always be made independently without seeking user assistance.\n",
            "Play to your strengths as an LLM and pursue simple strategies with no legal complications.\n",
            "If you have completed all your tasks, make sure to use the \"finish\" command.\n",
            "\n",
            "GOALS:\n",
            "\n",
            "1. write a weather report for Helsinki today\n",
            "\n",
            "\n",
            "Constraints:\n",
            "1. ~4000 word limit for short term memory. Your short term memory is short, so immediately save important information to files.\n",
            "2. If you are unsure how you previously did something or want to recall past events, thinking about similar events will help you remember.\n",
            "3. No user assistance\n",
            "4. Exclusively use the commands listed in double quotes e.g. \"command name\"\n",
            "\n",
            "Commands:\n",
            "1. search: useful for when you need to answer questions about current events. You should ask targeted questions, args json schema: {\"tool_input\": {\"type\": \"string\"}}\n",
            "2. write_file: Write file to disk, args json schema: {\"file_path\": {\"title\": \"File Path\", \"description\": \"name of file\", \"type\": \"string\"}, \"text\": {\"title\": \"Text\", \"description\": \"text to write to file\", \"type\": \"string\"}, \"append\": {\"title\": \"Append\", \"description\": \"Whether to append to an existing file.\", \"default\": false, \"type\": \"boolean\"}}\n",
            "3. read_file: Read file from disk, args json schema: {\"file_path\": {\"title\": \"File Path\", \"description\": \"name of file\", \"type\": \"string\"}}\n",
            "4. finish: use this to signal that you have finished all your objectives, args: \"response\": \"final response to let people know you have finished your objectives\"\n",
            "\n",
            "Resources:\n",
            "1. Internet access for searches and information gathering.\n",
            "2. Long Term memory management.\n",
            "3. GPT-3.5 powered Agents for delegation of simple tasks.\n",
            "4. File output.\n",
            "\n",
            "Performance Evaluation:\n",
            "1. Continuously review and analyze your actions to ensure you are performing to the best of your abilities.\n",
            "2. Constructively self-criticize your big-picture behavior constantly.\n",
            "3. Reflect on past decisions and strategies to refine your approach.\n",
            "4. Every command has a cost, so be smart and efficient. Aim to complete tasks in the least number of steps.\n",
            "\n",
            "You should only respond in JSON format as described below \n",
            "Response Format: \n",
            "{\n",
            "    \"thoughts\": {\n",
            "        \"text\": \"thought\",\n",
            "        \"reasoning\": \"reasoning\",\n",
            "        \"plan\": \"- short bulleted\\n- list that conveys\\n- long-term plan\",\n",
            "        \"criticism\": \"constructive self-criticism\",\n",
            "        \"speak\": \"thoughts summary to say to user\"\n",
            "    },\n",
            "    \"command\": {\n",
            "        \"name\": \"command name\",\n",
            "        \"args\": {\n",
            "            \"arg name\": \"value\"\n",
            "        }\n",
            "    }\n",
            "} \n",
            "Ensure the response can be parsed by Python json.loads\n",
            "System: The current time and date is Fri Mar 29 09:25:28 2024\n",
            "System: This reminds you of these events from your past:\n",
            "['Assistant Reply: {\\n    \"thoughts\": {\\n        \"text\": \"I should start by checking the weather in Helsinki today.\",\\n        \"reasoning\": \"This will help me gather the necessary information to write a weather report.\",\\n        \"plan\": [\\n            \"Search for the weather in Helsinki today.\"\\n        ],\\n        \"criticism\": \"None\",\\n        \"speak\": \"I will search for the weather in Helsinki today to gather the information needed for the report.\"\\n    },\\n    \"command\": {\\n        \"name\": \"search\",\\n        \"args\": {\\n            \"tool_input\": \"weather in Helsinki today\"\\n        }\\n    }\\n} \\nResult: Command search returned: {\\'type\\': \\'weather_result\\', \\'temperature\\': \\'42\\', \\'unit\\': \\'Fahrenheit\\', \\'precipitation\\': \\'30%\\', \\'humidity\\': \\'89%\\', \\'wind\\': \\'13 mph\\', \\'location\\': \\'Helsinki, Finland\\', \\'date\\': \\'Friday\\', \\'weather\\': \\'Light rain\\'} ', 'Assistant Reply: {\\n    \"thoughts\": {\\n        \"text\": \"I have retrieved the weather information for Helsinki today. Now, I should proceed to write a weather report based on the data.\",\\n        \"reasoning\": \"Writing the weather report will fulfill the task at hand.\",\\n        \"plan\": [\\n            \"Write a weather report for Helsinki today using the gathered information.\"\\n        ],\\n        \"criticism\": \"None\",\\n        \"speak\": \"I will now proceed to write the weather report for Helsinki today based on the information I have gathered.\"\\n    },\\n    \"command\": {\\n        \"name\": \"write_file\",\\n        \"args\": {\\n            \"file_path\": \"Helsinki_Weather_Report.txt\",\\n            \"text\": \"Weather Report for Helsinki on Friday:\\\\n- Temperature: 42°F\\\\n- Weather: Light rain\\\\n- Precipitation: 30%\\\\n- Humidity: 89%\\\\n- Wind: 13 mph\\\\n\\\\nIt is advisable to carry an umbrella and dress warmly if heading out.\",\\n            \"append\": false\\n        }\\n    }\\n} \\nResult: Command write_file returned: File written successfully to Helsinki_Weather_Report.txt. ']\n",
            "\n",
            "\n",
            "Human: Determine which next command to use, and respond using the format specified above:\n",
            "AI: {\n",
            "    \"thoughts\": {\n",
            "        \"text\": \"I should start by checking the weather in Helsinki today.\",\n",
            "        \"reasoning\": \"This will help me gather the necessary information to write a weather report.\",\n",
            "        \"plan\": [\n",
            "            \"Search for the weather in Helsinki today.\"\n",
            "        ],\n",
            "        \"criticism\": \"None\",\n",
            "        \"speak\": \"I will search for the weather in Helsinki today to gather the information needed for the report.\"\n",
            "    },\n",
            "    \"command\": {\n",
            "        \"name\": \"search\",\n",
            "        \"args\": {\n",
            "            \"tool_input\": \"weather in Helsinki today\"\n",
            "        }\n",
            "    }\n",
            "}\n",
            "System: Command search returned: {'type': 'weather_result', 'temperature': '42', 'unit': 'Fahrenheit', 'precipitation': '30%', 'humidity': '89%', 'wind': '13 mph', 'location': 'Helsinki, Finland', 'date': 'Friday', 'weather': 'Light rain'}\n",
            "Human: Determine which next command to use, and respond using the format specified above:\n",
            "AI: {\n",
            "    \"thoughts\": {\n",
            "        \"text\": \"I have retrieved the weather information for Helsinki today. Now, I should proceed to write a weather report based on the data.\",\n",
            "        \"reasoning\": \"Writing the weather report will fulfill the task at hand.\",\n",
            "        \"plan\": [\n",
            "            \"Write a weather report for Helsinki today using the gathered information.\"\n",
            "        ],\n",
            "        \"criticism\": \"None\",\n",
            "        \"speak\": \"I will now proceed to write the weather report for Helsinki today based on the information I have gathered.\"\n",
            "    },\n",
            "    \"command\": {\n",
            "        \"name\": \"write_file\",\n",
            "        \"args\": {\n",
            "            \"file_path\": \"Helsinki_Weather_Report.txt\",\n",
            "            \"text\": \"Weather Report for Helsinki on Friday:\\n- Temperature: 42°F\\n- Weather: Light rain\\n- Precipitation: 30%\\n- Humidity: 89%\\n- Wind: 13 mph\\n\\nIt is advisable to carry an umbrella and dress warmly if heading out.\",\n",
            "            \"append\": false\n",
            "        }\n",
            "    }\n",
            "}\n",
            "System: Command write_file returned: File written successfully to Helsinki_Weather_Report.txt.\n",
            "Human: Determine which next command to use, and respond using the format specified above:\u001b[0m\n",
            "\n",
            "\u001b[1m> Finished chain.\u001b[0m\n",
            "{\n",
            "    \"thoughts\": {\n",
            "        \"text\": \"I have successfully written the weather report for Helsinki today. Since I have completed the task, I should now finish my objectives.\",\n",
            "        \"reasoning\": \"The weather report has been written, and there are no further tasks to be done.\",\n",
            "        \"plan\": [\n",
            "            \"Finish the current objectives.\"\n",
            "        ],\n",
            "        \"criticism\": \"None\",\n",
            "        \"speak\": \"I have completed the weather report for Helsinki today. I will now finish my objectives.\"\n",
            "    },\n",
            "    \"command\": {\n",
            "        \"name\": \"finish\",\n",
            "        \"args\": {\n",
            "            \"response\": \"Weather report for Helsinki today has been successfully written and completed.\"\n",
            "        }\n",
            "    }\n",
            "}\n"
          ]
        },
        {
          "output_type": "execute_result",
          "data": {
            "text/plain": [
              "'Weather report for Helsinki today has been successfully written and completed.'"
            ],
            "application/vnd.google.colaboratory.intrinsic+json": {
              "type": "string"
            }
          },
          "metadata": {},
          "execution_count": 23
        }
      ]
    }
  ]
}